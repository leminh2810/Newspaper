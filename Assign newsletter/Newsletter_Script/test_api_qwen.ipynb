{
 "cells": [
  {
   "cell_type": "code",
   "execution_count": 15,
   "metadata": {},
   "outputs": [],
   "source": [
    "\n",
    "def translate_vietnamese(entities):\n",
    "    try:\n",
    "        client = OpenAI(\n",
    "    # If the environment variable is not configured, replace the following line with: api_key=\"sk-xxx\",\n",
    "    api_key=os.getenv(\"DASHSCOPE_API_KEY\"), \n",
    "    base_url=\"https://dashscope-intl.aliyuncs.com/compatible-mode/v1\",\n",
    "    )    \n",
    "        \n",
    "        \n",
    "        completion = client.chat.completions.create(\n",
    "        model=\"qwen-max\",  # Sử dụng mô hình Qwen-Max\n",
    "        messages=[\n",
    "        {'role': 'system', 'content': f\"\"\"You are an expert in Vietnamese phonetics and translator. Your task is to transliterate English name entities into Vietnamese pronunciation. Follow these rules:\n",
    "        Task:  You are given a list of English entities {entities}. Your task is to transliterate them into Vietnamese pronunciation. Do not translate the meaning of the name entities. Focus only on phonetic transliteration.\n",
    "        Example: Gmail → Gờ meo, Facebook → Phây búc,  Microsoft → Mai cờ rô sốp, Google → Gu gồ.\n",
    "        If the word is an acronym, transliterate each letter separately in English phonetics. For example, LLM should be transliterated as Eo EO EM , API is Ây pi ai, HTTP is Eich ti ti pi, SSD: Éc éc đê, IBM: Ai Bi Em, AI: Ây ai, ML: Em Eo, CNN: Si en en, BBC: Bi bi si, IOT: Ai âu ti, VR: Vi a, AR: Ây a, MR: Em a, XR: Ech a, etc.\n",
    "        \"\"\"},\n",
    "        {'role': 'user', 'content': f'Translate {entities} into Vietnamese pronunciation.'},\n",
    "    ]\n",
    ")\n",
    "        return completion.choices[0].message.content\n",
    "    except Exception as e:\n",
    "        print(f\"Error translating text: {e}\")\n",
    "        return None"
   ]
  },
  {
   "cell_type": "code",
   "execution_count": 16,
   "metadata": {},
   "outputs": [
    {
     "name": "stdout",
     "output_type": "stream",
     "text": [
      "104\n",
      "List of Name Entities:\n",
      "['ChatGPT', 'OpenAI', 'Alibaba Cloud', 'Deepseek', 'Claude', 'Google', 'Microsoft', 'Apple', 'Amazon', 'Facebook', 'Twitter', 'Instagram', 'WhatsApp', 'YouTube', 'Zoom', 'GitHub', 'Dropbox', 'Slack', 'Spotify', 'Netflix', 'Alibaba', 'Tencent', 'Baidu', 'Samsung', 'Huawei', 'Gmail', 'iPhone', 'Android', 'Windows', 'MacOS', 'Tesla', 'PlayStation', 'Xbox', 'Nintendo', 'Adobe', 'Photoshop', 'Illustrator', 'Chrome', 'Firefox', 'Safari', 'Edge', 'LinkedIn', 'TikTok', 'Snapchat', 'Shopify', 'AI', 'ML', 'LLM', 'API', 'IoT', 'VR', 'AR', 'NLP', 'GPT', 'GPU', 'CPU', 'RAM', 'SSD', 'HTTP', 'HTTPS', 'DNS', 'HTML', 'CSS', 'JSON', 'XML', 'NASA', 'UN', 'WHO', 'IMF', 'WTO', 'UNESCO', 'NATO', 'FIFA', 'UEFA', 'Red Cross', 'Disney', 'Warner Bros', 'Universal Studios', 'Hulu', 'HBO', 'CNN', 'BBC', 'Fox News', 'The New York Times', 'Visa', 'MasterCard', 'PayPal', 'Stripe', 'Square', 'Goldman Sachs', 'JPMorgan Chase', 'Wells Fargo', 'Citibank', 'HSBC', 'Wikipedia', 'Reddit', 'Quora', 'Medium', 'WordPress', 'Wix', 'Canva', 'Salesforce', 'Oracle', 'IBM']\n"
     ]
    }
   ],
   "source": [
    "# Danh sách 100 name entities phổ biến\n",
    "NAME_ENTITIES = [\n",
    "    \"ChatGPT\", \"OpenAI\", \"Alibaba Cloud\", \"Deepseek\", \"Claude\", \n",
    "    \"Google\", \"Microsoft\", \"Apple\", \"Amazon\", \"Facebook\", \"Twitter\", \"Instagram\", \"WhatsApp\", \"YouTube\", \"Zoom\",\n",
    "    \"GitHub\", \"Dropbox\", \"Slack\", \"Spotify\", \"Netflix\", \"Alibaba\", \"Tencent\", \"Baidu\", \"Samsung\", \"Huawei\",\n",
    "    \"Gmail\", \"iPhone\", \"Android\", \"Windows\", \"MacOS\", \"Tesla\", \"PlayStation\", \"Xbox\", \"Nintendo\", \"Adobe\",\n",
    "    \"Photoshop\", \"Illustrator\", \"Chrome\", \"Firefox\", \"Safari\", \"Edge\", \"LinkedIn\", \"TikTok\", \"Snapchat\", \"Shopify\",\n",
    "    \"AI\", \"ML\", \"LLM\", \"API\", \"IoT\", \"VR\", \"AR\", \"NLP\", \"GPT\", \"GPU\", \"CPU\", \"RAM\", \"SSD\", \"HTTP\", \"HTTPS\",\n",
    "    \"DNS\", \"HTML\", \"CSS\", \"JSON\", \"XML\", \"NASA\", \"UN\", \"WHO\", \"IMF\", \"WTO\", \"UNESCO\", \"NATO\", \"FIFA\", \"UEFA\",\n",
    "    \"Red Cross\", \"Disney\", \"Warner Bros\", \"Universal Studios\", \"Hulu\", \"HBO\", \"CNN\", \"BBC\", \"Fox News\",\n",
    "    \"The New York Times\", \"Visa\", \"MasterCard\", \"PayPal\", \"Stripe\", \"Square\", \"Goldman Sachs\", \"JPMorgan Chase\",\n",
    "    \"Wells Fargo\", \"Citibank\", \"HSBC\", \"Wikipedia\", \"Reddit\", \"Quora\", \"Medium\", \"WordPress\", \"Wix\", \"Canva\",\n",
    "    \"Salesforce\", \"Oracle\", \"IBM\"\n",
    "]\n",
    "\n",
    "# In danh sách\n",
    "print(len(NAME_ENTITIES))\n",
    "print(\"List of Name Entities:\")\n",
    "print(NAME_ENTITIES)"
   ]
  },
  {
   "cell_type": "code",
   "execution_count": 17,
   "metadata": {},
   "outputs": [],
   "source": [
    "text = 'Welcome to Think Data, your daily briefing on the everevolving world of data, AI, and technology. Today is March 13th, 2025. Weve got a packed agenda, covering everything from cuttingedge AI tools and data products to critical updates in data engineering, governance, and business intelligence. Well also highlight some interesting opensource projects to keep an eye on. Lets dive right in : First up, lets explore the latest in Data Products. Pallete AI is making waves as a tool for generating color palettes. Its designed to help designers and creators quickly find and apply harmonious color schemes, enhancing visual appeal and brand consistency. Similarly, AI Product Shots offers a way to generate professionallooking product photos using artificial intelligence. This is a gamechanger for ecommerce businesses and marketers who need highquality images quickly and affordably. Moving into AI Trending, OpenAI is pushing AI agent capabilities with a new developer API. This API allows developers to create more sophisticated and autonomous AI agents, enabling them to perform a wider range of tasks and interact more naturally with users and systems. Interestingly, a quarter of startups in Y Combinators current cohort have codebases that are almost entirely AIgenerated. This trend highlights the growing impact of AI on software development. Furthermore, OpenAI says it has trained an AI thats really good at creative writing, showcasing advancements in AIs ability to perform creative tasks. Now, lets turn our attention to Data Engineering. A new port of TypeScript aims to significantly improve its performance. This enhancement could lead to faster build times and a better development experience for TypeScript users. Also, securing cloud deployments is crucial. An article guides users on implementing identity and access control in Azure Kubernetes Service, providing steps to secure Kubernetes deployments using Azures identity management features. Regarding Business Intelligence, Google Search experienced significant growth in 2024, processing a volume of searches vastly exceeding that of ChatGPT. This highlights the continued dominance of traditional search engines in information retrieval. In the realm of Data Governance, US cities are warning residents about a wave of phishing texts claiming unpaid parking fees. These texts aim to trick individuals into providing personal or financial information, highlighting the need for vigilance against such scams. In other news, Elon Musk reported that the social media platform X experienced downtime due to cyberattacks. Finally, a malicious package on the Python Package Index was found to be stealing Ethereum private keys and had been downloaded over 1,000 times. : That brings us to the end of todays Think Data podcast. Weve covered a lot of ground, from AIpowered design tools and developer APIs to critical updates in data security and engineering. The rapid pace of innovation in these fields requires constant learning and adaptation. Remember to stay vigilant against cybersecurity threats, explore new AI tools that can streamline your workflows, and keep an eye on the opensource community for innovative solutions. We hope you found this episode insightful. What AI tool are you most excited to try Let us know on our social media channels. Join us again tomorrow for more datadriven insights. This is Innovation Lab, signing off'\n"
   ]
  },
  {
   "cell_type": "code",
   "execution_count": 18,
   "metadata": {},
   "outputs": [
    {
     "data": {
      "text/plain": [
       "'1. **ChatGPT** → Chát Gờ Pờ Tờ  \\n2. **OpenAI** → Ô pân Ây Ai  \\n3. **Alibaba Cloud** → A li ba ba Clâu đơ  \\n4. **Deepseek** → Díp xích  \\n5. **Claude** → Clâu đơ  \\n6. **Google** → Gu gồ  \\n7. **Microsoft** → Mai cờ rô sốp  \\n8. **Apple** → Ép pồ  \\n9. **Amazon** → A ma zôn  \\n10. **Facebook** → Phây búc  \\n11. **Twitter** → Tu ít tờ  \\n12. **Instagram** → In sờ ta grăm  \\n13. **WhatsApp** → Vhát sáp  \\n14. **YouTube** → Giu tu bộ  \\n15. **Zoom** → Dzu mờ  \\n16. **GitHub** → Gít húp  \\n17. **Dropbox** → Drốp bốc  \\n18. **Slack** → Xlắc  \\n19. **Spotify** → Xpốt i phai  \\n20. **Netflix** → Nét phlix  \\n21. **Alibaba** → A li ba ba  \\n22. **Tencent** → Ten xèn  \\n23. **Baidu** → Bai đu  \\n24. **Samsung** → Sám xung  \\n25. **Huawei** → Hứa uê  \\n26. **Gmail** → Gờ meo  \\n27. **iPhone** → Ai phôn  \\n28. **Android** → An đroi  \\n29. **Windows** → Vin đồ  \\n30. **MacOS** → Mắc cơ át  \\n31. **Tesla** → Tét la  \\n32. **PlayStation** → Plei sờ tê shần  \\n33. **Xbox** → Éch bốc  \\n34. **Nintendo** → Ni nen đô  \\n35. **Adobe** → A đốp  \\n36. **Photoshop** → Phô tô sọp  \\n37. **Illustrator** → Il lú sờ trê tờ  \\n38. **Chrome** → Crôm  \\n39. **Firefox** → Phai e rốc  \\n40. **Safari** → Sa pha ri  \\n41. **Edge** → Éo ch  \\n42. **LinkedIn** → Lin kờ đin  \\n43. **TikTok** → Tik tók  \\n44. **Snapchat** → Xnắp chát  \\n45. **Shopify** → Sờ hóp ai phai  \\n46. **AI** → Ây ai  \\n47. **ML** → Em Eo  \\n48. **LLM** → Eo EO EM  \\n49. **API** → Ây pi ai  \\n50. **IoT** → Ai âu ti  \\n51. **VR** → Vi a  \\n52. **AR** → Ây a  \\n53. **NLP** → En el pi  \\n54. **GPT** → Gờ Pờ Tờ  \\n55. **GPU** → Gờ Pờ U  \\n56. **CPU** → Cờ Pờ U  \\n57. **RAM** → Rờ am em  \\n58. **SSD** → Éc éc đê  \\n59. **HTTP** → Eich ti ti pi  \\n60. **HTTPS** → Eich ti ti pi es  \\n61. **DNS** → Di en es  \\n62. **HTML** → Et chi ti em el  \\n63. **CSS** → Si es es  \\n64. **JSON** → Jê sờn  \\n65. **XML** → Ech em el  \\n66. **NASA** → Nờ A Es A  \\n67. **UN** → U En  \\n68. **WHO** → Wờ Hờ O  \\n69. **IMF** → Ai Em Ef  \\n70. **WTO** → Wờ Ti O  \\n71. **UNESCO** → U En Es Co  \\n72. **NATO** → Nờ A Ti O  \\n73. **FIFA** → Fai Fa  \\n74. **UEFA** → U E Fa  \\n75. **Red Cross** → Rét Crốt  \\n76. **Disney** → Đin ni  \\n77. **Warner Bros** → O nơ Brốt  \\n78. **Universal Studios** → U ni vờ sờ nờ stu đi ô  \\n79. **Hulu** → Hu lu  \\n80. **HBO** → Hờ Bi O  \\n81. **CNN** → Si en en  \\n82. **BBC** → Bi bi si  \\n83. **Fox News** → Phốc nưu  \\n84. **The New York Times** → Đi nyoo yoo tờ mai  \\n85. **Visa** → Vai za  \\n86. **MasterCard** → Mắt sờ thẻ ca  \\n87. **PayPal** → Pê pô  \\n88. **Stripe** → Xtrai pờ  \\n89. **Square** → Xquâ  \\n90. **Goldman Sachs** → Gôl môn Sách  \\n91. **JPMorgan Chase** → Jê Pi Mô gân Chê  \\n92. **Wells Fargo** → Wels Fác gô  \\n93. **Citibank** → Xi ti băn  \\n94. **HSBC** → Hờ Es Bi Ci  \\n95. **Wikipedia** → Wi ki pê đi a  \\n96. **Reddit** → Rê dít  \\n97. **Quora** → Quô ra  \\n98. **Medium** → Mê đi ăm  \\n99. **WordPress** → Wờ dpres  \\n100. **Wix** → Wích  \\n101. **Canva** → Can va  \\n102. **Salesforce** → Sếil pho  \\n103. **Oracle** → Ô ra cl  \\n104. **IBM** → Ai Bi Em'"
      ]
     },
     "execution_count": 18,
     "metadata": {},
     "output_type": "execute_result"
    }
   ],
   "source": [
    "translate_vietnamese(NAME_ENTITIES)"
   ]
  },
  {
   "cell_type": "code",
   "execution_count": null,
   "metadata": {},
   "outputs": [],
   "source": []
  }
 ],
 "metadata": {
  "kernelspec": {
   "display_name": "myenv",
   "language": "python",
   "name": "python3"
  },
  "language_info": {
   "codemirror_mode": {
    "name": "ipython",
    "version": 3
   },
   "file_extension": ".py",
   "mimetype": "text/x-python",
   "name": "python",
   "nbconvert_exporter": "python",
   "pygments_lexer": "ipython3",
   "version": "3.10.16"
  }
 },
 "nbformat": 4,
 "nbformat_minor": 2
}
